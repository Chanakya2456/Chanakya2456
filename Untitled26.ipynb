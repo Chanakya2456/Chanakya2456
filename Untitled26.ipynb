{
  "cells": [
    {
      "cell_type": "markdown",
      "metadata": {
        "id": "view-in-github",
        "colab_type": "text"
      },
      "source": [
        "<a href=\"https://colab.research.google.com/github/Chanakya2456/Chanakya2456/blob/main/Untitled26.ipynb\" target=\"_parent\"><img src=\"https://colab.research.google.com/assets/colab-badge.svg\" alt=\"Open In Colab\"/></a>"
      ]
    },
    {
      "cell_type": "code",
      "execution_count": null,
      "metadata": {
        "id": "mo8dRxAFeiuC"
      },
      "outputs": [],
      "source": [
        "import requests\n",
        "import base64\n",
        "\n",
        "repo_owner = \"doocs\"\n",
        "repo_name = \"leetcode\"\n",
        "readme_path = \"README_EN.md\"\n",
        "\n",
        "api_url = f\"https://api.github.com/repos/{repo_owner}/{repo_name}/contents/solution/{readme_path}\"\n",
        "response = requests.get(api_url)\n",
        "\n",
        "if response.status_code == 200:\n",
        "    readme_content = response.json()[\"content\"]\n",
        "    decoded_content = base64.b64decode(readme_content).decode(\"utf-8\")\n",
        "    #print(decoded_content)\n",
        "else:\n",
        "    print(\"Failed to retrieve README file\")\n",
        "lines = decoded_content.split(\"\\n\")\n",
        "formatted_lines = []\n",
        "for line in lines:\n",
        "  formatted_lines.append(line)"
      ]
    },
    {
      "cell_type": "code",
      "execution_count": null,
      "metadata": {
        "id": "v-wIUWNEgCPr"
      },
      "outputs": [],
      "source": [
        "with open(\"leetcode.txt\", \"w\") as f:\n",
        "        f.writelines(formatted_lines)"
      ]
    },
    {
      "cell_type": "code",
      "execution_count": null,
      "metadata": {
        "colab": {
          "base_uri": "https://localhost:8080/"
        },
        "id": "c6tG8Rk9hibI",
        "outputId": "c4d93f0a-2227-4e2d-dd62-4865702152d6"
      },
      "outputs": [
        {
          "output_type": "stream",
          "name": "stdout",
          "text": [
            "|  0398  |  [Random Pick Index](/solution/0300-0399/0398.Random%20Pick%20Index/README_EN.md)  |  `Reservoir Sampling`,`Hash Table`,`Math`,`Randomized`  |  Medium  |    |\n",
            "\n"
          ]
        }
      ],
      "source": [
        "import re\n",
        "def extract_info_from_file(question_number, file_path):\n",
        " with open(file_path, 'r') as f:\n",
        "   for line in f:\n",
        "    if len(line)>70:\n",
        "      if(line[3:7]==question_number):\n",
        "        return line\n",
        " return None\n",
        "file_path='/content/leetcode.txt'\n",
        "question_number=\"0398\"\n",
        "line=extract_info_from_file(question_number,file_path)\n",
        "print(line)\n"
      ]
    },
    {
      "cell_type": "code",
      "execution_count": null,
      "metadata": {
        "colab": {
          "base_uri": "https://localhost:8080/"
        },
        "id": "Y4MTJY8D4uL6",
        "outputId": "c340ade0-cb5e-4144-d8d9-c522f59d17d6"
      },
      "outputs": [
        {
          "output_type": "stream",
          "name": "stdout",
          "text": [
            "Question Title: Random Pick Index\n",
            "Solution Link: /solution/0300-0399/0398.Random%20Pick%20Index/README_EN.md\n",
            "Topics: Reservoir Sampling, Hash Table, Math, Randomized\n",
            "Hardness: Medium\n"
          ]
        }
      ],
      "source": [
        "#print(line)\n",
        "\n",
        "# Split the line into columns\n",
        "columns = line.strip().split(\"|\")\n",
        "#print(columns)\n",
        "\n",
        "# Extract the question title\n",
        "question_title = columns[2].strip().split(\"]\")[0].replace(\"[\", \"\").replace(\"]\", \"\")\n",
        "\n",
        "#Extract the solution link\n",
        "solution_link = columns[2].strip().split(\"]\")[1].split(\"(\")[1].split(\")\")[0]\n",
        "\n",
        "# Extract the topics\n",
        "topics = columns[3].strip().replace(\"`\", \"\").split(\",\")\n",
        "\n",
        "# Extract the hardness\n",
        "hardness = columns[4].strip()\n",
        "\n",
        "# Store the extracted information in separate strings\n",
        "question_title_str = question_title\n",
        "solution_link_str = solution_link\n",
        "topics_str = \", \".join(topics)\n",
        "hardness_str = hardness\n",
        "\n",
        "print(\"Question Title:\", question_title_str)\n",
        "print(\"Solution Link:\", solution_link_str)\n",
        "print(\"Topics:\", topics_str)\n",
        "print(\"Hardness:\", hardness_str)"
      ]
    },
    {
      "cell_type": "code",
      "source": [
        "language=input(\"Please choose you preferred language:\\n Supported languages are C++, Python, Java, Go, Typescript, Rust, Javascript, PHP, C, Scala, Swift, Ruby and Nim\")"
      ],
      "metadata": {
        "colab": {
          "base_uri": "https://localhost:8080/"
        },
        "id": "-t-V6PynDzuD",
        "outputId": "5956e767-6503-46b3-f268-c93dde35cd74"
      },
      "execution_count": null,
      "outputs": [
        {
          "name": "stdout",
          "output_type": "stream",
          "text": [
            "Please choose you preferred language:\n",
            " Supported languages are C++, Python, Java, Go, Typescript, Rust, Javascript, PHP, C, Scala, Swift, Ruby and Nimc\n"
          ]
        }
      ]
    },
    {
      "cell_type": "code",
      "source": [
        "print(language)"
      ],
      "metadata": {
        "colab": {
          "base_uri": "https://localhost:8080/"
        },
        "id": "Zx0IfRNfEvF6",
        "outputId": "b3df50e7-133e-4a49-8a50-1630f5049bfb"
      },
      "execution_count": null,
      "outputs": [
        {
          "output_type": "stream",
          "name": "stdout",
          "text": [
            "c\n"
          ]
        }
      ]
    },
    {
      "cell_type": "code",
      "source": [
        "import requests\n",
        "link_contents=solution_link_str.strip().split(\"/\")\n",
        "range = link_contents[2]\n",
        "location= link_contents[3]\n",
        "repo_owner = \"doocs\"\n",
        "repo_name = \"leetcode\"\n",
        "lang=\"cpp\"\n",
        "url = f\"https://raw.githubusercontent.com/{repo_owner}/{repo_name}/main/solution/{range}/{location}/Solution.{lang}\"\n",
        "response = requests.get(url)\n",
        "print(response.text)\n",
        "with open('output.cpp', 'w') as f:\n",
        "    f.write(response.text)"
      ],
      "metadata": {
        "colab": {
          "base_uri": "https://localhost:8080/"
        },
        "id": "_dFVO6Mr9iPA",
        "outputId": "64cca8ce-049d-48ac-c414-243b56c1810b"
      },
      "execution_count": null,
      "outputs": [
        {
          "output_type": "stream",
          "name": "stdout",
          "text": [
            "class Solution {\n",
            "public:\n",
            "    vector<int> nums;\n",
            "\n",
            "    Solution(vector<int>& nums) {\n",
            "        this->nums = nums;\n",
            "    }\n",
            "\n",
            "    int pick(int target) {\n",
            "        int n = 0, ans = 0;\n",
            "        for (int i = 0; i < nums.size(); ++i) {\n",
            "            if (nums[i] == target) {\n",
            "                ++n;\n",
            "                int x = 1 + rand() % n;\n",
            "                if (n == x) ans = i;\n",
            "            }\n",
            "        }\n",
            "        return ans;\n",
            "    }\n",
            "};\n",
            "\n",
            "/**\n",
            " * Your Solution object will be instantiated and called as such:\n",
            " * Solution* obj = new Solution(nums);\n",
            " * int param_1 = obj->pick(target);\n",
            " */\n"
          ]
        }
      ]
    },
    {
      "cell_type": "code",
      "source": [
        "import requests\n",
        "link_contents=solution_link_str.strip().split(\"/\")\n",
        "range = link_contents[2]\n",
        "location= link_contents[3]\n",
        "repo_owner = \"doocs\"\n",
        "repo_name = \"leetcode\"\n",
        "url = f\"https://raw.githubusercontent.com/{repo_owner}/{repo_name}/main/solution/{range}/{location}/README_EN.md\"\n",
        "response = requests.get(url)\n",
        "print(response.text)\n",
        "with open('solution_readme.txt', 'w') as f:\n",
        "    f.write(response.text)"
      ],
      "metadata": {
        "colab": {
          "base_uri": "https://localhost:8080/"
        },
        "id": "fy0Ew20GAfk9",
        "outputId": "765a310a-92ef-45cf-a1e7-a3ad8eb0bf8c"
      },
      "execution_count": null,
      "outputs": [
        {
          "output_type": "stream",
          "name": "stdout",
          "text": [
            "---\n",
            "comments: true\n",
            "difficulty: Medium\n",
            "edit_url: https://github.com/doocs/leetcode/edit/main/solution/0300-0399/0398.Random%20Pick%20Index/README_EN.md\n",
            "tags:\n",
            "    - Reservoir Sampling\n",
            "    - Hash Table\n",
            "    - Math\n",
            "    - Randomized\n",
            "---\n",
            "\n",
            "<!-- problem:start -->\n",
            "\n",
            "# [398. Random Pick Index](https://leetcode.com/problems/random-pick-index)\n",
            "\n",
            "[中文文档](/solution/0300-0399/0398.Random%20Pick%20Index/README.md)\n",
            "\n",
            "## Description\n",
            "\n",
            "<!-- description:start -->\n",
            "\n",
            "<p>Given an integer array <code>nums</code> with possible <strong>duplicates</strong>, randomly output the index of a given <code>target</code> number. You can assume that the given target number must exist in the array.</p>\n",
            "\n",
            "<p>Implement the <code>Solution</code> class:</p>\n",
            "\n",
            "<ul>\n",
            "\t<li><code>Solution(int[] nums)</code> Initializes the object with the array <code>nums</code>.</li>\n",
            "\t<li><code>int pick(int target)</code> Picks a random index <code>i</code> from <code>nums</code> where <code>nums[i] == target</code>. If there are multiple valid i&#39;s, then each index should have an equal probability of returning.</li>\n",
            "</ul>\n",
            "\n",
            "<p>&nbsp;</p>\n",
            "<p><strong class=\"example\">Example 1:</strong></p>\n",
            "\n",
            "<pre>\n",
            "<strong>Input</strong>\n",
            "[&quot;Solution&quot;, &quot;pick&quot;, &quot;pick&quot;, &quot;pick&quot;]\n",
            "[[[1, 2, 3, 3, 3]], [3], [1], [3]]\n",
            "<strong>Output</strong>\n",
            "[null, 4, 0, 2]\n",
            "\n",
            "<strong>Explanation</strong>\n",
            "Solution solution = new Solution([1, 2, 3, 3, 3]);\n",
            "solution.pick(3); // It should return either index 2, 3, or 4 randomly. Each index should have equal probability of returning.\n",
            "solution.pick(1); // It should return 0. Since in the array only nums[0] is equal to 1.\n",
            "solution.pick(3); // It should return either index 2, 3, or 4 randomly. Each index should have equal probability of returning.\n",
            "</pre>\n",
            "\n",
            "<p>&nbsp;</p>\n",
            "<p><strong>Constraints:</strong></p>\n",
            "\n",
            "<ul>\n",
            "\t<li><code>1 &lt;= nums.length &lt;= 2 * 10<sup>4</sup></code></li>\n",
            "\t<li><code>-2<sup>31</sup> &lt;= nums[i] &lt;= 2<sup>31</sup> - 1</code></li>\n",
            "\t<li><code>target</code> is an integer from <code>nums</code>.</li>\n",
            "\t<li>At most <code>10<sup>4</sup></code> calls will be made to <code>pick</code>.</li>\n",
            "</ul>\n",
            "\n",
            "<!-- description:end -->\n",
            "\n",
            "## Solutions\n",
            "\n",
            "<!-- solution:start -->\n",
            "\n",
            "### Solution 1\n",
            "\n",
            "<!-- tabs:start -->\n",
            "\n",
            "#### Python3\n",
            "\n",
            "```python\n",
            "class Solution:\n",
            "    def __init__(self, nums: List[int]):\n",
            "        self.nums = nums\n",
            "\n",
            "    def pick(self, target: int) -> int:\n",
            "        n = ans = 0\n",
            "        for i, v in enumerate(self.nums):\n",
            "            if v == target:\n",
            "                n += 1\n",
            "                x = random.randint(1, n)\n",
            "                if x == n:\n",
            "                    ans = i\n",
            "        return ans\n",
            "\n",
            "\n",
            "# Your Solution object will be instantiated and called as such:\n",
            "# obj = Solution(nums)\n",
            "# param_1 = obj.pick(target)\n",
            "```\n",
            "\n",
            "#### Java\n",
            "\n",
            "```java\n",
            "class Solution {\n",
            "    private int[] nums;\n",
            "    private Random random = new Random();\n",
            "\n",
            "    public Solution(int[] nums) {\n",
            "        this.nums = nums;\n",
            "    }\n",
            "\n",
            "    public int pick(int target) {\n",
            "        int n = 0, ans = 0;\n",
            "        for (int i = 0; i < nums.length; ++i) {\n",
            "            if (nums[i] == target) {\n",
            "                ++n;\n",
            "                int x = 1 + random.nextInt(n);\n",
            "                if (x == n) {\n",
            "                    ans = i;\n",
            "                }\n",
            "            }\n",
            "        }\n",
            "        return ans;\n",
            "    }\n",
            "}\n",
            "\n",
            "/**\n",
            " * Your Solution object will be instantiated and called as such:\n",
            " * Solution obj = new Solution(nums);\n",
            " * int param_1 = obj.pick(target);\n",
            " */\n",
            "```\n",
            "\n",
            "#### C++\n",
            "\n",
            "```cpp\n",
            "class Solution {\n",
            "public:\n",
            "    vector<int> nums;\n",
            "\n",
            "    Solution(vector<int>& nums) {\n",
            "        this->nums = nums;\n",
            "    }\n",
            "\n",
            "    int pick(int target) {\n",
            "        int n = 0, ans = 0;\n",
            "        for (int i = 0; i < nums.size(); ++i) {\n",
            "            if (nums[i] == target) {\n",
            "                ++n;\n",
            "                int x = 1 + rand() % n;\n",
            "                if (n == x) ans = i;\n",
            "            }\n",
            "        }\n",
            "        return ans;\n",
            "    }\n",
            "};\n",
            "\n",
            "/**\n",
            " * Your Solution object will be instantiated and called as such:\n",
            " * Solution* obj = new Solution(nums);\n",
            " * int param_1 = obj->pick(target);\n",
            " */\n",
            "```\n",
            "\n",
            "#### Go\n",
            "\n",
            "```go\n",
            "type Solution struct {\n",
            "\tnums []int\n",
            "}\n",
            "\n",
            "func Constructor(nums []int) Solution {\n",
            "\treturn Solution{nums}\n",
            "}\n",
            "\n",
            "func (this *Solution) Pick(target int) int {\n",
            "\tn, ans := 0, 0\n",
            "\tfor i, v := range this.nums {\n",
            "\t\tif v == target {\n",
            "\t\t\tn++\n",
            "\t\t\tx := 1 + rand.Intn(n)\n",
            "\t\t\tif n == x {\n",
            "\t\t\t\tans = i\n",
            "\t\t\t}\n",
            "\t\t}\n",
            "\t}\n",
            "\treturn ans\n",
            "}\n",
            "\n",
            "/**\n",
            " * Your Solution object will be instantiated and called as such:\n",
            " * obj := Constructor(nums);\n",
            " * param_1 := obj.Pick(target);\n",
            " */\n",
            "```\n",
            "\n",
            "<!-- tabs:end -->\n",
            "\n",
            "<!-- solution:end -->\n",
            "\n",
            "<!-- problem:end -->\n",
            "\n"
          ]
        }
      ]
    },
    {
      "cell_type": "code",
      "source": [
        "with open('solution_readme.txt', 'r') as f:\n",
        "    content = response.text\n",
        "\n",
        "description = re.search(r'## Description(.*?)##', content, re.DOTALL).group(1).strip()\n",
        "#examples = re.search(r'## Examples(.*?)##', content, re.DOTALL).group(1).strip()\n",
        "#constraints = re.search(r'## Constraints(.*?)##', content, re.DOTALL).group(1).strip()\n",
        "#follow_up = re.search(r'## Follow-up(.*?)##', content, re.DOTALL).group(1).strip()\n",
        "\n",
        "description = re.sub(r'<!-- description:start -->\\n\\n', '', description)\n",
        "description = re.sub(r'\\n\\n<!-- description:end -->', '', description)\n",
        "description = re.sub(r'<p>', '', description)\n",
        "description = re.sub(r'</p>', '', description)\n",
        "description = re.sub(r'<strong class=\"example\">', '', description)\n",
        "description = re.sub(r'</strong>', '', description)\n",
        "description = re.sub(r'<code>', '', description)\n",
        "description = re.sub(r'</code>', '', description)\n",
        "description = re.sub(r'<li>', '\\n- ', description)\n",
        "description = re.sub(r'<ul>', '', description)\n",
        "description = re.sub(r'</ul>', '', description)\n",
        "\n",
        "description = re.sub(r'<strong>', '', description)\n",
        "description = re.sub(r'</strong>', '', description)\n",
        "description = re.sub(r'&quot;', '\"', description)\n",
        "description = re.sub(r'&#39;', \"'\", description)\n",
        "description = re.sub(r'<sup>', '^', description)\n",
        "description = re.sub(r'</sup>', '', description)\n",
        "description = re.sub(r'<li>', '- ', description)\n",
        "description = re.sub(r'</li>', '', description)\n",
        "description=description.strip()\n",
        "description = re.sub(r'  ', ' ', description)\n",
        "#description = re.sub(r'<!-- description:start -->', '', description)\n",
        "#description = re.sub(r'<!-- description:end -->', '', description)\n",
        "\n",
        "print(\"Description:\\n\", description)\n",
        "#print(\"Examples:\\n\", examples)\n",
        "#print(\"Constraints:\\n\", constraints)\n",
        "#print(\"Follow up:\\n\", follow_up)"
      ],
      "metadata": {
        "colab": {
          "base_uri": "https://localhost:8080/"
        },
        "id": "R8rAfs1a6MXF",
        "outputId": "ba711d56-afd7-4a12-89e9-721d7613f220"
      },
      "execution_count": null,
      "outputs": [
        {
          "output_type": "stream",
          "name": "stdout",
          "text": [
            "Description:\n",
            " Given an integer array nums with possible duplicates, randomly output the index of a given target number. You can assume that the given target number must exist in the array.\n",
            "\n",
            "Implement the Solution class:\n",
            "\n",
            "\n",
            "\t\n",
            "- Solution(int[] nums) Initializes the object with the array nums.\n",
            "\t\n",
            "- int pick(int target) Picks a random index i from nums where nums[i] == target. If there are multiple valid i's, then each index should have an equal probability of returning.\n",
            "\n",
            "\n",
            "&nbsp;\n",
            "Example 1:\n",
            "\n",
            "<pre>\n",
            "Input\n",
            "[\"Solution\", \"pick\", \"pick\", \"pick\"]\n",
            "[[[1, 2, 3, 3, 3]], [3], [1], [3]]\n",
            "Output\n",
            "[null, 4, 0, 2]\n",
            "\n",
            "Explanation\n",
            "Solution solution = new Solution([1, 2, 3, 3, 3]);\n",
            "solution.pick(3); // It should return either index 2, 3, or 4 randomly. Each index should have equal probability of returning.\n",
            "solution.pick(1); // It should return 0. Since in the array only nums[0] is equal to 1.\n",
            "solution.pick(3); // It should return either index 2, 3, or 4 randomly. Each index should have equal probability of returning.\n",
            "</pre>\n",
            "\n",
            "&nbsp;\n",
            "Constraints:\n",
            "\n",
            "\n",
            "\t\n",
            "- 1 &lt;= nums.length &lt;= 2 * 10^4\n",
            "\t\n",
            "- -2^31 &lt;= nums[i] &lt;= 2^31 - 1\n",
            "\t\n",
            "- target is an integer from nums.\n",
            "\t\n",
            "- At most 10^4 calls will be made to pick.\n"
          ]
        }
      ]
    },
    {
      "cell_type": "code",
      "source": [
        "print(description)"
      ],
      "metadata": {
        "colab": {
          "base_uri": "https://localhost:8080/"
        },
        "id": "-TvjGVU56XYZ",
        "outputId": "4a7731bb-b9e2-4fa8-db6e-dccd16da8e8d"
      },
      "execution_count": null,
      "outputs": [
        {
          "output_type": "stream",
          "name": "stdout",
          "text": [
            "Given an integer array nums with possible duplicates, randomly output the index of a given target number. You can assume that the given target number must exist in the array.\n",
            "\n",
            "Implement the Solution class:\n",
            "\n",
            "\n",
            "\t\n",
            "- Solution(int[] nums) Initializes the object with the array nums.\n",
            "\t\n",
            "- int pick(int target) Picks a random index i from nums where nums[i] == target. If there are multiple valid i's, then each index should have an equal probability of returning.\n",
            "\n",
            "\n",
            "&nbsp;\n",
            "Example 1:\n",
            "\n",
            "<pre>\n",
            "Input\n",
            "[\"Solution\", \"pick\", \"pick\", \"pick\"]\n",
            "[[[1, 2, 3, 3, 3]], [3], [1], [3]]\n",
            "Output\n",
            "[null, 4, 0, 2]\n",
            "\n",
            "Explanation\n",
            "Solution solution = new Solution([1, 2, 3, 3, 3]);\n",
            "solution.pick(3); // It should return either index 2, 3, or 4 randomly. Each index should have equal probability of returning.\n",
            "solution.pick(1); // It should return 0. Since in the array only nums[0] is equal to 1.\n",
            "solution.pick(3); // It should return either index 2, 3, or 4 randomly. Each index should have equal probability of returning.\n",
            "</pre>\n",
            "\n",
            "&nbsp;\n",
            "Constraints:\n",
            "\n",
            "\n",
            "\t\n",
            "- 1 &lt;= nums.length &lt;= 2 * 10^4\n",
            "\t\n",
            "- -2^31 &lt;= nums[i] &lt;= 2^31 - 1\n",
            "\t\n",
            "- target is an integer from nums.\n",
            "\t\n",
            "- At most 10^4 calls will be made to pick.\n"
          ]
        }
      ]
    }
  ],
  "metadata": {
    "colab": {
      "provenance": [],
      "authorship_tag": "ABX9TyMjs5ZqRuRclKrsEscpXhdX",
      "include_colab_link": true
    },
    "kernelspec": {
      "display_name": "Python 3",
      "name": "python3"
    },
    "language_info": {
      "name": "python"
    }
  },
  "nbformat": 4,
  "nbformat_minor": 0
}